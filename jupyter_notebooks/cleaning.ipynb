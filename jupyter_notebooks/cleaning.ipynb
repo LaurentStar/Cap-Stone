{
 "cells": [
  {
   "cell_type": "markdown",
   "metadata": {},
   "source": [
    "# Cleaning Data\n",
    "- Imports\n",
    "- Load Data\n",
    "- Kagggle Fake News DataSet Cleaning\n",
    "- Kaggle News Category Dataset_v2.json Cleaning\n",
    "- buzzfeed_2018_fake_news.csv Cleaning"
   ]
  },
  {
   "cell_type": "markdown",
   "metadata": {},
   "source": [
    "# Imports"
   ]
  },
  {
   "cell_type": "code",
   "execution_count": 3,
   "metadata": {},
   "outputs": [],
   "source": [
    "import re\n",
    "import json\n",
    "import numpy as np\n",
    "import matplotlib.pyplot as plt\n",
    "import os\n",
    "import pandas as pd"
   ]
  },
  {
   "cell_type": "markdown",
   "metadata": {},
   "source": [
    "# Load Data"
   ]
  },
  {
   "cell_type": "code",
   "execution_count": 42,
   "metadata": {},
   "outputs": [],
   "source": [
    "_  = os.path.join('data', 'kaggle_fakenews_train.csv')\n",
    "fake_news_df = pd.read_csv(_)"
   ]
  },
  {
   "cell_type": "markdown",
   "metadata": {},
   "source": [
    "# Kagggle Fake News Data Set Cleaning"
   ]
  },
  {
   "cell_type": "code",
   "execution_count": 47,
   "metadata": {},
   "outputs": [],
   "source": [
    "fake_news_clean_df = fake_news_df.copy()\n",
    "\n",
    "#Dropping the id columns\n",
    "fake_news_clean_df.drop(columns=['id'], inplace=True)\n",
    "\n",
    "# Filling remainind columns with nan values with empty strings\n",
    "fake_news_clean_df.fillna(' ', inplace=True)\n",
    "\n",
    "# Saving the clean data frame\n",
    "fake_news_clean_df.to_pickle(\"data/clean_kaggle_fakenews_train.pkl\")"
   ]
  },
  {
   "cell_type": "markdown",
   "metadata": {},
   "source": [
    "# Kaggle News Category Dataset_v2.json Cleaning"
   ]
  },
  {
   "cell_type": "code",
   "execution_count": 74,
   "metadata": {},
   "outputs": [],
   "source": [
    "# OS safe file path\n",
    "_  = os.path.join('data', 'kaggle_news_category_dataset_v2.json')\n",
    "\n",
    "# Get json data as dictionary\n",
    "_ = [json.loads(line) for line in open(_, 'r')]\n",
    "\n",
    "#create dataframe with list of dictionaries\n",
    "news_catagory_df = pd.DataFrame(_)\n",
    "\n",
    "# Saving the clean data frame\n",
    "news_catagory_df.to_pickle(\"data/clean_huff.pkl\")"
   ]
  },
  {
   "cell_type": "markdown",
   "metadata": {},
   "source": [
    "# buzzfeed_2018_fake_news.csv Cleaning"
   ]
  },
  {
   "cell_type": "code",
   "execution_count": 11,
   "metadata": {},
   "outputs": [],
   "source": [
    "_  = os.path.join('data', 'buzzfeed_2018_fakenews.csv')\n",
    "buzz_feed_clean_df = pd.read_csv(_)\n",
    "\n",
    "buzz_feed_clean_df.drop(columns=['source'], axis=1, inplace=True)\n",
    "\n",
    "buzz_feed_clean_df.fillna(' ', inplace=True)\n",
    "\n",
    "buzz_feed_clean_df.to_pickle(\"data/clean_buzzfeed_fakenews.pkl\")"
   ]
  }
 ],
 "metadata": {
  "kernelspec": {
   "display_name": "Python 3",
   "language": "python",
   "name": "python3"
  },
  "language_info": {
   "codemirror_mode": {
    "name": "ipython",
    "version": 3
   },
   "file_extension": ".py",
   "mimetype": "text/x-python",
   "name": "python",
   "nbconvert_exporter": "python",
   "pygments_lexer": "ipython3",
   "version": "3.7.3"
  }
 },
 "nbformat": 4,
 "nbformat_minor": 2
}
