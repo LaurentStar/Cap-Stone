{
 "cells": [
  {
   "cell_type": "markdown",
   "metadata": {},
   "source": [
    "- https://www.kaggle.com/c/fake-news/data\n",
    "- https://www.kaggle.com/rmisra/news-category-dataset\n",
    "- https://libguides.library.kent.edu/c.php?g=278400&p=1854632 List of satire sites\n",
    "- https://www.adfontesmedia.com/interactive-media-bias-chart/?v=402f03a963ba media bias chart\n",
    "\n",
    "- https://github.com/BuzzFeedNews/2018-12-fake-news-top-50 buzzfeed fake news capture\n",
    "- https://www.buzzfeednews.com/article/craigsilverman/facebook-fake-news-hits-2018\n",
    "- https://www.forbes.com/sites/berlinschoolofcreativeleadership/2017/02/01/10-journalism-brands-where-you-will-find-real-facts-rather-than-alternative-facts/#82973b6e9b5a\n",
    "- https://www.kaggle.com/nzalake52/new-york-times-articles"
   ]
  },
  {
   "cell_type": "code",
   "execution_count": 3,
   "metadata": {},
   "outputs": [],
   "source": [
    "import os\n",
    "import pickle\n",
    "import pandas as pd\n",
    "from sklearn.model_selection import train_test_split\n",
    "from sklearn.feature_extraction.text import CountVectorizer\n",
    "from sklearn.naive_bayes import MultinomialNB\n",
    "from sklearn.feature_extraction.text import TfidfTransformer"
   ]
  },
  {
   "cell_type": "code",
   "execution_count": 5,
   "metadata": {},
   "outputs": [],
   "source": [
    "_  = os.path.join('data', 'prep_final_df.pkl')\n",
    "_ = open(_, 'rb')\n",
    "_ = pickle.load(_)\n",
    "final_df = _"
   ]
  },
  {
   "cell_type": "code",
   "execution_count": 7,
   "metadata": {},
   "outputs": [],
   "source": [
    "X = final_df['total']\n",
    "y = final_df['label']"
   ]
  },
  {
   "cell_type": "code",
   "execution_count": 8,
   "metadata": {},
   "outputs": [],
   "source": [
    "X_train, y_train, X_text, y_test = train_test_split(X, y, test_size=0.20, random_state=42)"
   ]
  },
  {
   "cell_type": "code",
   "execution_count": null,
   "metadata": {},
   "outputs": [],
   "source": [
    "Extr = ExtraTreesClassifier(n_estimators=5,n_jobs=4)\n",
    "Extr.fit(X_train, y_train)\n",
    "print('Accuracy of ExtrTrees classifier on training set: {:.2f}'.format(Extr.score(X_train, y_train)))\n",
    "print('Accuracy of Extratrees classifier on test set: {:.2f}'.format(Extr.score(X_test, y_test)))"
   ]
  },
  {
   "cell_type": "code",
   "execution_count": null,
   "metadata": {},
   "outputs": [],
   "source": []
  },
  {
   "cell_type": "markdown",
   "metadata": {},
   "source": [
    "# References\n",
    "- https://www.kaggle.com/plarmuseau/minimalistic-logistic-ngram-tfidf-lb-0-975"
   ]
  }
 ],
 "metadata": {
  "kernelspec": {
   "display_name": "Python 3",
   "language": "python",
   "name": "python3"
  },
  "language_info": {
   "codemirror_mode": {
    "name": "ipython",
    "version": 3
   },
   "file_extension": ".py",
   "mimetype": "text/x-python",
   "name": "python",
   "nbconvert_exporter": "python",
   "pygments_lexer": "ipython3",
   "version": "3.7.3"
  }
 },
 "nbformat": 4,
 "nbformat_minor": 2
}
