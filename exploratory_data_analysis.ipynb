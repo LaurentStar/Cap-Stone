{
 "cells": [
  {
   "cell_type": "markdown",
   "metadata": {},
   "source": [
    "Performing EDA on all unaltered datasets & clustering on finalize data set.\n",
    "\n",
    "# Table of Content\n",
    "- Imports\n",
    "- Load Data\n",
    "- kaggle_fakenews_df\n",
    "- kaggle_huff_df\n",
    "- kaggle_new_york_times_df\n",
    "- buzzfeed_fakenews_df"
   ]
  },
  {
   "cell_type": "markdown",
   "metadata": {},
   "source": [
    "# Imports"
   ]
  },
  {
   "cell_type": "code",
   "execution_count": 2,
   "metadata": {},
   "outputs": [],
   "source": [
    "import json\n",
    "import numpy as np\n",
    "import matplotlib.pyplot as plt\n",
    "import os\n",
    "import pandas as pd\n",
    "from IPython.display import display, Markdown, Latex\n",
    "from zipfile import ZipFile \n",
    "import pickle"
   ]
  },
  {
   "cell_type": "markdown",
   "metadata": {},
   "source": [
    "# Load Data"
   ]
  },
  {
   "cell_type": "code",
   "execution_count": 18,
   "metadata": {},
   "outputs": [],
   "source": [
    "_  = os.path.join('data', 'kaggle_fake_news_train.csv')\n",
    "kaggle_fakenews_df = pd.read_csv(_)"
   ]
  },
  {
   "cell_type": "code",
   "execution_count": 33,
   "metadata": {},
   "outputs": [],
   "source": [
    "# OS safe file path\n",
    "_  = os.path.join('data', 'kaggle_huff_news_category_v2.json')\n",
    "\n",
    "# Get json data as dictionary\n",
    "_ = [json.loads(line) for line in open(_, 'r')]\n",
    "\n",
    "#create dataframe with list of dictionaries\n",
    "kaggle_huff_df = pd.DataFrame(_)"
   ]
  },
  {
   "cell_type": "code",
   "execution_count": 3,
   "metadata": {},
   "outputs": [],
   "source": [
    "_ = os.path.join('data', 'nytimes_news_articles.txt')\n",
    "with open(_, 'r', encoding=\"utf-8\") as file:\n",
    "    \n",
    "    articles = []\n",
    "    urls = []\n",
    "    index = -1\n",
    "    lines =  file.readlines()  \n",
    "    \n",
    "    for line in lines:    \n",
    "        if line.find('URL:') != -1:\n",
    "            index += 1\n",
    "            urls.append(line.split()[1])\n",
    "            articles.append('')\n",
    "        elif line != '':\n",
    "            articles[index] = articles[index] + line  + ' '\n",
    "        else:\n",
    "            pass\n",
    "\n",
    "kaggle_new_york_times_df = pd.DataFrame({'total': articles})"
   ]
  },
  {
   "cell_type": "code",
   "execution_count": 20,
   "metadata": {},
   "outputs": [],
   "source": [
    "_  = os.path.join('data', 'buzzfeed_2018_fake_news.csv')\n",
    "buzzfeed_fakenews_df = pd.read_csv(_)"
   ]
  },
  {
   "cell_type": "code",
   "execution_count": null,
   "metadata": {},
   "outputs": [],
   "source": [
    "_  = os.path.join('potential_data', 'prep_final_df.pkl')\n",
    "with open(_, 'rb') as file:\n",
    "    final_df = pickle.load(file) "
   ]
  },
  {
   "cell_type": "markdown",
   "metadata": {},
   "source": [
    "# kaggle_fakenews_df"
   ]
  },
  {
   "cell_type": "code",
   "execution_count": 27,
   "metadata": {},
   "outputs": [
    {
     "data": {
      "text/html": [
       "<div>\n",
       "<style scoped>\n",
       "    .dataframe tbody tr th:only-of-type {\n",
       "        vertical-align: middle;\n",
       "    }\n",
       "\n",
       "    .dataframe tbody tr th {\n",
       "        vertical-align: top;\n",
       "    }\n",
       "\n",
       "    .dataframe thead th {\n",
       "        text-align: right;\n",
       "    }\n",
       "</style>\n",
       "<table border=\"1\" class=\"dataframe\">\n",
       "  <thead>\n",
       "    <tr style=\"text-align: right;\">\n",
       "      <th></th>\n",
       "      <th>id</th>\n",
       "      <th>title</th>\n",
       "      <th>author</th>\n",
       "      <th>text</th>\n",
       "      <th>label</th>\n",
       "    </tr>\n",
       "  </thead>\n",
       "  <tbody>\n",
       "    <tr>\n",
       "      <th>0</th>\n",
       "      <td>0</td>\n",
       "      <td>House Dem Aide: We Didn’t Even See Comey’s Let...</td>\n",
       "      <td>Darrell Lucus</td>\n",
       "      <td>House Dem Aide: We Didn’t Even See Comey’s Let...</td>\n",
       "      <td>1</td>\n",
       "    </tr>\n",
       "    <tr>\n",
       "      <th>1</th>\n",
       "      <td>1</td>\n",
       "      <td>FLYNN: Hillary Clinton, Big Woman on Campus - ...</td>\n",
       "      <td>Daniel J. Flynn</td>\n",
       "      <td>Ever get the feeling your life circles the rou...</td>\n",
       "      <td>0</td>\n",
       "    </tr>\n",
       "    <tr>\n",
       "      <th>2</th>\n",
       "      <td>2</td>\n",
       "      <td>Why the Truth Might Get You Fired</td>\n",
       "      <td>Consortiumnews.com</td>\n",
       "      <td>Why the Truth Might Get You Fired October 29, ...</td>\n",
       "      <td>1</td>\n",
       "    </tr>\n",
       "    <tr>\n",
       "      <th>3</th>\n",
       "      <td>3</td>\n",
       "      <td>15 Civilians Killed In Single US Airstrike Hav...</td>\n",
       "      <td>Jessica Purkiss</td>\n",
       "      <td>Videos 15 Civilians Killed In Single US Airstr...</td>\n",
       "      <td>1</td>\n",
       "    </tr>\n",
       "    <tr>\n",
       "      <th>4</th>\n",
       "      <td>4</td>\n",
       "      <td>Iranian woman jailed for fictional unpublished...</td>\n",
       "      <td>Howard Portnoy</td>\n",
       "      <td>Print \\nAn Iranian woman has been sentenced to...</td>\n",
       "      <td>1</td>\n",
       "    </tr>\n",
       "  </tbody>\n",
       "</table>\n",
       "</div>"
      ],
      "text/plain": [
       "   id                                              title              author  \\\n",
       "0   0  House Dem Aide: We Didn’t Even See Comey’s Let...       Darrell Lucus   \n",
       "1   1  FLYNN: Hillary Clinton, Big Woman on Campus - ...     Daniel J. Flynn   \n",
       "2   2                  Why the Truth Might Get You Fired  Consortiumnews.com   \n",
       "3   3  15 Civilians Killed In Single US Airstrike Hav...     Jessica Purkiss   \n",
       "4   4  Iranian woman jailed for fictional unpublished...      Howard Portnoy   \n",
       "\n",
       "                                                text  label  \n",
       "0  House Dem Aide: We Didn’t Even See Comey’s Let...      1  \n",
       "1  Ever get the feeling your life circles the rou...      0  \n",
       "2  Why the Truth Might Get You Fired October 29, ...      1  \n",
       "3  Videos 15 Civilians Killed In Single US Airstr...      1  \n",
       "4  Print \\nAn Iranian woman has been sentenced to...      1  "
      ]
     },
     "metadata": {},
     "output_type": "display_data"
    },
    {
     "name": "stdout",
     "output_type": "stream",
     "text": [
      "Unique ids and shape (20800, 20800)\n"
     ]
    }
   ],
   "source": [
    "display(kaggle_fakenews_df.head())\n",
    "print('Unique ids and shape', (kaggle_fakenews_df.id.nunique(), kaggle_fakenews_df.shape[0]))"
   ]
  },
  {
   "cell_type": "markdown",
   "metadata": {},
   "source": [
    "The id columns seems to be the same as the index.\n",
    "    \n",
    "**Actions to be taken**\n",
    "- Removing the id columns entirely"
   ]
  },
  {
   "cell_type": "code",
   "execution_count": 28,
   "metadata": {
    "scrolled": true
   },
   "outputs": [
    {
     "name": "stdout",
     "output_type": "stream",
     "text": [
      "<class 'pandas.core.frame.DataFrame'>\n",
      "RangeIndex: 20800 entries, 0 to 20799\n",
      "Data columns (total 5 columns):\n",
      "id        20800 non-null int64\n",
      "title     20242 non-null object\n",
      "author    18843 non-null object\n",
      "text      20761 non-null object\n",
      "label     20800 non-null int64\n",
      "dtypes: int64(2), object(3)\n",
      "memory usage: 812.6+ KB\n"
     ]
    }
   ],
   "source": [
    "kaggle_fakenews_df.info()"
   ]
  },
  {
   "cell_type": "markdown",
   "metadata": {},
   "source": [
    "The text is the most defining feature, Any observation without it is not technically an article. Even without an author or title the text is still very important and will be preserved.\n",
    "\n",
    "**Actions to be taken**\n",
    "- All rows with nan text will be classified as fake\n",
    "- All text and title with nan will be filled with empty strings"
   ]
  },
  {
   "cell_type": "code",
   "execution_count": 29,
   "metadata": {},
   "outputs": [
    {
     "data": {
      "image/png": "[encoded data removed]",
      "text/plain": [
       "<Figure size 432x288 with 1 Axes>"
      ]
     },
     "metadata": {
      "needs_background": "light"
     },
     "output_type": "display_data"
    }
   ],
   "source": [
    "x = kaggle_fakenews_df.label.value_counts().index\n",
    "y = kaggle_fakenews_df.label.value_counts()\n",
    "plt.bar(x=x, tick_label=x, height=y);"
   ]
  },
  {
   "cell_type": "markdown",
   "metadata": {},
   "source": [
    "The target's distubtion of data is uniform. No actions required"
   ]
  },
  {
   "cell_type": "code",
   "execution_count": 30,
   "metadata": {},
   "outputs": [
    {
     "name": "stdout",
     "output_type": "stream",
     "text": [
      "Max number of articles written: 243\n",
      "Min number of articles written: 1\n",
      "Average number of articles written: 4.485360628421804\n",
      "Median number of articles written: 1.0\n"
     ]
    },
    {
     "data": {
      "image/png": "[encoded data removed]",
      "text/plain": [
       "<Figure size 432x288 with 1 Axes>"
      ]
     },
     "metadata": {
      "needs_background": "light"
     },
     "output_type": "display_data"
    }
   ],
   "source": [
    "print('Max number of articles written:', kaggle_fakenews_df.author.value_counts().max())\n",
    "print('Min number of articles written:', kaggle_fakenews_df.author.value_counts().min())\n",
    "print('Average number of articles written:', kaggle_fakenews_df.author.value_counts().mean())\n",
    "print('Median number of articles written:', kaggle_fakenews_df.author.value_counts().median())\n",
    "plt.hist(kaggle_fakenews_df.author.value_counts(), bins=70);"
   ]
  },
  {
   "cell_type": "markdown",
   "metadata": {},
   "source": [
    "the average number of articles written by an author is ~ 4.5. There is an outlier that wrote over 243 articles but this is sto;; less than 1% of the data. No actions required"
   ]
  },
  {
   "cell_type": "code",
   "execution_count": 31,
   "metadata": {},
   "outputs": [
    {
     "name": "stdout",
     "output_type": "stream",
     "text": [
      "Average number of words in factual articles: 878.9965341292\n",
      "Median number of words in factual articles: 773.0\n",
      "\n",
      "Average number of words in factual articles: 639.06847210218\n",
      "Median number of words in factual articles: 382.0\n"
     ]
    },
    {
     "data": {
      "image/png": "[encoded data removed]",
      "text/plain": [
       "<Figure size 1008x216 with 2 Axes>"
      ]
     },
     "metadata": {
      "needs_background": "light"
     },
     "output_type": "display_data"
    }
   ],
   "source": [
    "factual = kaggle_fakenews_df[kaggle_fakenews_df['label'] == 0]['text'].map(lambda word: len(word.split()))\n",
    "fake = kaggle_fakenews_df[kaggle_fakenews_df['label'] == 1]['text'].map(lambda word: len(word.split()) \n",
    "                                                            if isinstance(word, str) == True\n",
    "                                                            else 0\n",
    "                                                           )\n",
    "\n",
    "print('Average number of words in factual articles:', factual.mean())\n",
    "print('Median number of words in factual articles:', factual.median())\n",
    "print()\n",
    "print('Average number of words in factual articles:', fake.mean())\n",
    "print('Median number of words in factual articles:', fake.median())\n",
    "\n",
    "fig, ax = plt.subplots(ncols=2, nrows=1, figsize=(14, 3))\n",
    "\n",
    "ax[0].hist(fake, bins=60)\n",
    "ax[0].set_title('Fake Article Distrubution of word count')\n",
    "ax[1].hist(factual, bins=60)\n",
    "ax[1].set_title('Factual Article Distrubution of word count')\n",
    "\n",
    "plt.tight_layout();"
   ]
  },
  {
   "cell_type": "markdown",
   "metadata": {},
   "source": [
    "- The number of words in a fake article aren't normally distrubted and are on average 200 words less except for outliers.\n",
    "- Factual articles distubtion is skewed to the left. I assume this is due to wanting to be a shorter read for users."
   ]
  },
  {
   "cell_type": "markdown",
   "metadata": {},
   "source": [
    "### <span style =\"color:blue\"> All Actions to be Taken \n",
    "\n",
    "<span style =\"color:blue\">\n",
    "   \n",
    "- Removing the id columns entirely\n",
    "- All rows with nan text will be classified as fake\n",
    "- All text and title with nan will be filled with empty strings\n",
    "\n",
    "</span>"
   ]
  },
  {
   "cell_type": "markdown",
   "metadata": {},
   "source": [
    "# kaggle_huff_df"
   ]
  },
  {
   "cell_type": "code",
   "execution_count": 34,
   "metadata": {},
   "outputs": [
    {
     "data": {
      "text/html": [
       "<div>\n",
       "<style scoped>\n",
       "    .dataframe tbody tr th:only-of-type {\n",
       "        vertical-align: middle;\n",
       "    }\n",
       "\n",
       "    .dataframe tbody tr th {\n",
       "        vertical-align: top;\n",
       "    }\n",
       "\n",
       "    .dataframe thead th {\n",
       "        text-align: right;\n",
       "    }\n",
       "</style>\n",
       "<table border=\"1\" class=\"dataframe\">\n",
       "  <thead>\n",
       "    <tr style=\"text-align: right;\">\n",
       "      <th></th>\n",
       "      <th>authors</th>\n",
       "      <th>category</th>\n",
       "      <th>date</th>\n",
       "      <th>headline</th>\n",
       "      <th>link</th>\n",
       "      <th>short_description</th>\n",
       "    </tr>\n",
       "  </thead>\n",
       "  <tbody>\n",
       "    <tr>\n",
       "      <th>0</th>\n",
       "      <td>Melissa Jeltsen</td>\n",
       "      <td>CRIME</td>\n",
       "      <td>2018-05-26</td>\n",
       "      <td>There Were 2 Mass Shootings In Texas Last Week...</td>\n",
       "      <td>https://www.huffingtonpost.com/entry/texas-ama...</td>\n",
       "      <td>She left her husband. He killed their children...</td>\n",
       "    </tr>\n",
       "    <tr>\n",
       "      <th>1</th>\n",
       "      <td>Andy McDonald</td>\n",
       "      <td>ENTERTAINMENT</td>\n",
       "      <td>2018-05-26</td>\n",
       "      <td>Will Smith Joins Diplo And Nicky Jam For The 2...</td>\n",
       "      <td>https://www.huffingtonpost.com/entry/will-smit...</td>\n",
       "      <td>Of course it has a song.</td>\n",
       "    </tr>\n",
       "    <tr>\n",
       "      <th>2</th>\n",
       "      <td>Ron Dicker</td>\n",
       "      <td>ENTERTAINMENT</td>\n",
       "      <td>2018-05-26</td>\n",
       "      <td>Hugh Grant Marries For The First Time At Age 57</td>\n",
       "      <td>https://www.huffingtonpost.com/entry/hugh-gran...</td>\n",
       "      <td>The actor and his longtime girlfriend Anna Ebe...</td>\n",
       "    </tr>\n",
       "    <tr>\n",
       "      <th>3</th>\n",
       "      <td>Ron Dicker</td>\n",
       "      <td>ENTERTAINMENT</td>\n",
       "      <td>2018-05-26</td>\n",
       "      <td>Jim Carrey Blasts 'Castrato' Adam Schiff And D...</td>\n",
       "      <td>https://www.huffingtonpost.com/entry/jim-carre...</td>\n",
       "      <td>The actor gives Dems an ass-kicking for not fi...</td>\n",
       "    </tr>\n",
       "    <tr>\n",
       "      <th>4</th>\n",
       "      <td>Ron Dicker</td>\n",
       "      <td>ENTERTAINMENT</td>\n",
       "      <td>2018-05-26</td>\n",
       "      <td>Julianna Margulies Uses Donald Trump Poop Bags...</td>\n",
       "      <td>https://www.huffingtonpost.com/entry/julianna-...</td>\n",
       "      <td>The \"Dietland\" actress said using the bags is ...</td>\n",
       "    </tr>\n",
       "  </tbody>\n",
       "</table>\n",
       "</div>"
      ],
      "text/plain": [
       "           authors       category        date  \\\n",
       "0  Melissa Jeltsen          CRIME  2018-05-26   \n",
       "1    Andy McDonald  ENTERTAINMENT  2018-05-26   \n",
       "2       Ron Dicker  ENTERTAINMENT  2018-05-26   \n",
       "3       Ron Dicker  ENTERTAINMENT  2018-05-26   \n",
       "4       Ron Dicker  ENTERTAINMENT  2018-05-26   \n",
       "\n",
       "                                            headline  \\\n",
       "0  There Were 2 Mass Shootings In Texas Last Week...   \n",
       "1  Will Smith Joins Diplo And Nicky Jam For The 2...   \n",
       "2    Hugh Grant Marries For The First Time At Age 57   \n",
       "3  Jim Carrey Blasts 'Castrato' Adam Schiff And D...   \n",
       "4  Julianna Margulies Uses Donald Trump Poop Bags...   \n",
       "\n",
       "                                                link  \\\n",
       "0  https://www.huffingtonpost.com/entry/texas-ama...   \n",
       "1  https://www.huffingtonpost.com/entry/will-smit...   \n",
       "2  https://www.huffingtonpost.com/entry/hugh-gran...   \n",
       "3  https://www.huffingtonpost.com/entry/jim-carre...   \n",
       "4  https://www.huffingtonpost.com/entry/julianna-...   \n",
       "\n",
       "                                   short_description  \n",
       "0  She left her husband. He killed their children...  \n",
       "1                           Of course it has a song.  \n",
       "2  The actor and his longtime girlfriend Anna Ebe...  \n",
       "3  The actor gives Dems an ass-kicking for not fi...  \n",
       "4  The \"Dietland\" actress said using the bags is ...  "
      ]
     },
     "execution_count": 34,
     "metadata": {},
     "output_type": "execute_result"
    }
   ],
   "source": [
    "kaggle_huff_df.head()"
   ]
  },
  {
   "cell_type": "code",
   "execution_count": 36,
   "metadata": {},
   "outputs": [
    {
     "name": "stdout",
     "output_type": "stream",
     "text": [
      "<class 'pandas.core.frame.DataFrame'>\n",
      "RangeIndex: 200853 entries, 0 to 200852\n",
      "Data columns (total 6 columns):\n",
      "authors              200853 non-null object\n",
      "category             200853 non-null object\n",
      "date                 200853 non-null object\n",
      "headline             200853 non-null object\n",
      "link                 200853 non-null object\n",
      "short_description    200853 non-null object\n",
      "dtypes: object(6)\n",
      "memory usage: 9.2+ MB\n"
     ]
    }
   ],
   "source": [
    "kaggle_huff_df.info()"
   ]
  },
  {
   "cell_type": "markdown",
   "metadata": {},
   "source": [
    "A link to each article is provided. Tne data is clean with no nan values but no classification for fake or realible. Huffinton is considered a reliable source in a my sourced media bias chart.\n",
    "\n",
    "**Actions to be taken** \n",
    "- all observations will be classified as reliable = 0."
   ]
  },
  {
   "cell_type": "markdown",
   "metadata": {},
   "source": [
    "# kaggle_new_york_times_df"
   ]
  },
  {
   "cell_type": "code",
   "execution_count": 4,
   "metadata": {},
   "outputs": [
    {
     "data": {
      "text/html": [
       "<div>\n",
       "<style scoped>\n",
       "    .dataframe tbody tr th:only-of-type {\n",
       "        vertical-align: middle;\n",
       "    }\n",
       "\n",
       "    .dataframe tbody tr th {\n",
       "        vertical-align: top;\n",
       "    }\n",
       "\n",
       "    .dataframe thead th {\n",
       "        text-align: right;\n",
       "    }\n",
       "</style>\n",
       "<table border=\"1\" class=\"dataframe\">\n",
       "  <thead>\n",
       "    <tr style=\"text-align: right;\">\n",
       "      <th></th>\n",
       "      <th>total</th>\n",
       "    </tr>\n",
       "  </thead>\n",
       "  <tbody>\n",
       "    <tr>\n",
       "      <th>0</th>\n",
       "      <td>\\n WASHINGTON — Stellar pitching kept the Mets...</td>\n",
       "    </tr>\n",
       "    <tr>\n",
       "      <th>1</th>\n",
       "      <td>\\n Mayor Bill de Blasio’s counsel and chief le...</td>\n",
       "    </tr>\n",
       "    <tr>\n",
       "      <th>2</th>\n",
       "      <td>\\n In the early morning hours of Labor Day las...</td>\n",
       "    </tr>\n",
       "    <tr>\n",
       "      <th>3</th>\n",
       "      <td>\\n It was the Apple Store in New York City bef...</td>\n",
       "    </tr>\n",
       "    <tr>\n",
       "      <th>4</th>\n",
       "      <td>\\n OMAHA — The United States Olympic swimming ...</td>\n",
       "    </tr>\n",
       "  </tbody>\n",
       "</table>\n",
       "</div>"
      ],
      "text/plain": [
       "                                               total\n",
       "0  \\n WASHINGTON — Stellar pitching kept the Mets...\n",
       "1  \\n Mayor Bill de Blasio’s counsel and chief le...\n",
       "2  \\n In the early morning hours of Labor Day las...\n",
       "3  \\n It was the Apple Store in New York City bef...\n",
       "4  \\n OMAHA — The United States Olympic swimming ..."
      ]
     },
     "execution_count": 4,
     "metadata": {},
     "output_type": "execute_result"
    }
   ],
   "source": [
    "kaggle_new_york_times_df.head()"
   ]
  },
  {
   "cell_type": "code",
   "execution_count": 5,
   "metadata": {},
   "outputs": [
    {
     "name": "stdout",
     "output_type": "stream",
     "text": [
      "<class 'pandas.core.frame.DataFrame'>\n",
      "RangeIndex: 8888 entries, 0 to 8887\n",
      "Data columns (total 1 columns):\n",
      "total    8888 non-null object\n",
      "dtypes: object(1)\n",
      "memory usage: 69.5+ KB\n"
     ]
    }
   ],
   "source": [
    "kaggle_new_york_times_df.info()"
   ]
  },
  {
   "cell_type": "code",
   "execution_count": 10,
   "metadata": {},
   "outputs": [
    {
     "name": "stdout",
     "output_type": "stream",
     "text": [
      "\n",
      " WASHINGTON — Stellar pitching kept the Mets afloat in the first half of last season despite their offensive woes. But they cannot produce an encore of their pennant-winning season if their lineup keeps floundering while their pitching is nicked, bruised and stretched thin.\n",
      " “We were going to ride our pitching,” Manager Terry Collins said before Wednesday’s game. “But we’re not riding it right now. We’ve got as many problems with our pitching as we do anything.”\n",
      " Wednesday’s 4-2 loss to the Washington Nationals was cruel for the already-limping Mets. Pitching in Steven Matz’s place, the spot starter Logan Verrett allowed two runs over five innings. But even that was too large a deficit for the Mets’ lineup to overcome against Max Scherzer, the Nationals’ starter.\n",
      " “We’re not even giving ourselves chances,” Collins said, adding later, “We just can’t give our pitchers any room to work.”\n",
      " The Mets did not score until the ninth inning, when a last-gasp two-run homer by James Loney off Nationals reliever Shawn Kelley snapped a streak of 23 scoreless innings for the team.\n",
      " The Mets were swept in the three-game series and fell six games behind the Nationals in the National League East. Of late, the Mets have looked worse than their 40-37 record.\n",
      " “I don’t think we’ve played half our games yet this year,” right fielder Curtis Granderson said. “There’s still a lot of things left that can and hopefully will happen.”\n",
      " Scherzer toyed with the Mets, who were initially without Granderson after he was scratched from the lineup with lingering calf tightness. Even though Granderson has been inconsistent this season, he had hit well against Scherzer in the past. Alejandro De Aza, who entered the game with a .165 average, started in right field instead because Collins said the team had few options.\n",
      " After Scherzer gave up a single to Asdrubal Cabrera and walked Loney in the second inning, he retired the next 18 batters, until an eighth-inning single by Brandon Nimmo.\n",
      " The Mets struggled again with runners on base. After Nimmo and the pinch-hitting Granderson singled in the eighth, pinch-hitter Travis d’Arnaud grounded out, and De Aza struck out.\n",
      " “If they keep adding pressure on themselves, they’re going to continue to struggle,” Collins said. “That’s one of the things we try to make sure they have to understand: They have to be themselves.”\n",
      " General Manager Sandy Alderson, Collins and the coaching staff have met about the offense and discussed the odd dynamics: Some players are performing at or better than their career averages, but the lineup as a whole has struggled immensely, especially with runners in scoring position.\n",
      " “We’re just not driving in any runs,” Collins said. “That’s been the frustrating part. It’s not that we’re striking out. We’re popping up, or a double-play ball.”\n",
      " The Mets have a power-hitting team, so asking players to bunt or hit and run would go against their strengths.\n",
      " “When you start to change a team that’s built one way and start to make them do something different, you’re going to get your butt beat,” Collins said.\n",
      " Earlier in the season, the Mets appeared like an all-or-nothing, home-run-driven team. Although they hit only .211 as a team in May, they smashed 40 home runs. They have a higher average in June, but they have hit only 24 homers, and the inconsistent offense has put a strain on the pitching staff.\n",
      " In the second inning, Verrett gave up a solo home run to the ex-Met Daniel Murphy. Collins wanted to limit the workloads of Addison Reed and Jeurys Familia, so he turned to reliever Sean Gilmartin in the eighth. Gilmartin gave up a two-run homer to Murphy, who has hit .429 (15 for 35) with four home runs against the Mets this season, his first since leaving the team.\n",
      " “I felt like I kept us in the game and gave us a chance to come back and win it,” Verrett said. “I wish that I wouldn’t have given up the two runs.”\n",
      " Verrett was put in this position because of the effects of bone spurs on the Mets’ rotation. The team asked Verrett to start Wednesday and gave Matz an extra day of rest after he received anti-inflammatory medication for the large bone spur in his left elbow. He will try to pitch through it.\n",
      " Noah Syndergaard has a smaller and less intrusive bone spur in the back of his right elbow.\n",
      " “As long as I’m staying on my anti-inflammatories and my mechanics are on point, I’m able to go out there every five days and compete,” Syndergaard said.\n",
      " For the Mets, the immediate road ahead will be even tougher. Matz was expected to pitch Thursday against the Chicago Cubs, one of the best teams in baseball this season.\n",
      " \n",
      " \n"
     ]
    }
   ],
   "source": [
    "print(kaggle_new_york_times_df.iloc[0, 0])"
   ]
  },
  {
   "cell_type": "code",
   "execution_count": 15,
   "metadata": {},
   "outputs": [
    {
     "name": "stdout",
     "output_type": "stream",
     "text": [
      "815.0829207920792\n"
     ]
    },
    {
     "data": {
      "image/png": "[encoded data removed]",
      "text/plain": [
       "<Figure size 432x288 with 1 Axes>"
      ]
     },
     "metadata": {
      "needs_background": "light"
     },
     "output_type": "display_data"
    }
   ],
   "source": [
    "_ = kaggle_new_york_times_df['total'].map(lambda x: len(x.split()))\n",
    "print(_.mean())\n",
    "plt.hist(x=_, bins=50);"
   ]
  },
  {
   "cell_type": "markdown",
   "metadata": {},
   "source": [
    "- The average number of word per article is ~ 815. this is very close to the ~ 878.996 words per reliable article for the intial dataset kaggle_fakenews_df. \n",
    "\n",
    "**Actions to be taken**\n",
    "- all observations will be classified as reliable = 0."
   ]
  },
  {
   "cell_type": "markdown",
   "metadata": {},
   "source": [
    "# buzzfeed_fakenews_df"
   ]
  },
  {
   "cell_type": "code",
   "execution_count": 55,
   "metadata": {},
   "outputs": [
    {
     "data": {
      "text/html": [
       "<div>\n",
       "<style scoped>\n",
       "    .dataframe tbody tr th:only-of-type {\n",
       "        vertical-align: middle;\n",
       "    }\n",
       "\n",
       "    .dataframe tbody tr th {\n",
       "        vertical-align: top;\n",
       "    }\n",
       "\n",
       "    .dataframe thead th {\n",
       "        text-align: right;\n",
       "    }\n",
       "</style>\n",
       "<table border=\"1\" class=\"dataframe\">\n",
       "  <thead>\n",
       "    <tr style=\"text-align: right;\">\n",
       "      <th></th>\n",
       "      <th>title</th>\n",
       "      <th>url</th>\n",
       "      <th>fb_engagement</th>\n",
       "      <th>published_date</th>\n",
       "      <th>category</th>\n",
       "      <th>source</th>\n",
       "    </tr>\n",
       "  </thead>\n",
       "  <tbody>\n",
       "    <tr>\n",
       "      <th>0</th>\n",
       "      <td>Lottery winner arrested for dumping $200,000 o...</td>\n",
       "      <td>https://worldnewsdailyreport.com/lottery-winne...</td>\n",
       "      <td>2,383,021.00</td>\n",
       "      <td>2018-05-13</td>\n",
       "      <td>Crime</td>\n",
       "      <td>NaN</td>\n",
       "    </tr>\n",
       "    <tr>\n",
       "      <th>1</th>\n",
       "      <td>Former first lady Barbara Bush dies at 92 - CNN</td>\n",
       "      <td>http://breaking-cnn.com/former-first-lady-barb...</td>\n",
       "      <td>2,290,000.00</td>\n",
       "      <td>2018-04-16</td>\n",
       "      <td>Politics</td>\n",
       "      <td>Trendolizer</td>\n",
       "    </tr>\n",
       "    <tr>\n",
       "      <th>2</th>\n",
       "      <td>Woman sues Samsung for $1.8M after cell phone ...</td>\n",
       "      <td>https://worldnewsdailyreport.com/woman-sues-sa...</td>\n",
       "      <td>1,304,430.00</td>\n",
       "      <td>2018-09-19</td>\n",
       "      <td>Medical</td>\n",
       "      <td>NaN</td>\n",
       "    </tr>\n",
       "    <tr>\n",
       "      <th>3</th>\n",
       "      <td>BREAKING: Michael Jordan Resigns From The Boar...</td>\n",
       "      <td>https://trumpbetrayed.us/all/breaking-michael-...</td>\n",
       "      <td>911,336.00</td>\n",
       "      <td>2018-09-05</td>\n",
       "      <td>Business</td>\n",
       "      <td>NaN</td>\n",
       "    </tr>\n",
       "    <tr>\n",
       "      <th>4</th>\n",
       "      <td>Donald Trump Ends School Shootings By Banning ...</td>\n",
       "      <td>https://www.8shit.net/donald-trump-ends-school...</td>\n",
       "      <td>830,116.00</td>\n",
       "      <td>2018-02-23</td>\n",
       "      <td>Politics</td>\n",
       "      <td>NaN</td>\n",
       "    </tr>\n",
       "  </tbody>\n",
       "</table>\n",
       "</div>"
      ],
      "text/plain": [
       "                                               title  \\\n",
       "0  Lottery winner arrested for dumping $200,000 o...   \n",
       "1    Former first lady Barbara Bush dies at 92 - CNN   \n",
       "2  Woman sues Samsung for $1.8M after cell phone ...   \n",
       "3  BREAKING: Michael Jordan Resigns From The Boar...   \n",
       "4  Donald Trump Ends School Shootings By Banning ...   \n",
       "\n",
       "                                                 url fb_engagement  \\\n",
       "0  https://worldnewsdailyreport.com/lottery-winne...  2,383,021.00   \n",
       "1  http://breaking-cnn.com/former-first-lady-barb...  2,290,000.00   \n",
       "2  https://worldnewsdailyreport.com/woman-sues-sa...  1,304,430.00   \n",
       "3  https://trumpbetrayed.us/all/breaking-michael-...    911,336.00   \n",
       "4  https://www.8shit.net/donald-trump-ends-school...    830,116.00   \n",
       "\n",
       "  published_date  category       source  \n",
       "0     2018-05-13     Crime          NaN  \n",
       "1     2018-04-16  Politics  Trendolizer  \n",
       "2     2018-09-19   Medical          NaN  \n",
       "3     2018-09-05  Business          NaN  \n",
       "4     2018-02-23  Politics          NaN  "
      ]
     },
     "execution_count": 55,
     "metadata": {},
     "output_type": "execute_result"
    }
   ],
   "source": [
    "buzzfeed_fakenews_df.head()"
   ]
  },
  {
   "cell_type": "code",
   "execution_count": 39,
   "metadata": {},
   "outputs": [
    {
     "name": "stdout",
     "output_type": "stream",
     "text": [
      "<class 'pandas.core.frame.DataFrame'>\n",
      "RangeIndex: 13961 entries, 0 to 13960\n",
      "Data columns (total 6 columns):\n",
      "title             13960 non-null object\n",
      "url               13961 non-null object\n",
      "fb_engagement     13961 non-null object\n",
      "published_date    13961 non-null object\n",
      "category          11854 non-null object\n",
      "source            9 non-null object\n",
      "dtypes: object(6)\n",
      "memory usage: 654.5+ KB\n"
     ]
    }
   ],
   "source": [
    "buzzfeed_fakenews_df.info()"
   ]
  },
  {
   "cell_type": "markdown",
   "metadata": {},
   "source": [
    "- The Sources columns seem to be mostly null. url column is all I need to get the article\n",
    "- This dataset doesn't provide an article in text format. \n",
    "\n",
    "**Actions to be taken**\n",
    "- Remove the source column\n",
    "- I'll be scraping the urls and adding it's content to a new column called \"total\"\n",
    "- Nan sources will be replaced with \"unknowns\" to perserve the data and deal with this edge case."
   ]
  },
  {
   "cell_type": "code",
   "execution_count": 52,
   "metadata": {},
   "outputs": [
    {
     "name": "stdout",
     "output_type": "stream",
     "text": [
      "20 out of 165\n"
     ]
    },
    {
     "data": {
      "image/png": "[encoded data removed]",
      "text/plain": [
       "<Figure size 432x288 with 1 Axes>"
      ]
     },
     "metadata": {
      "needs_background": "light"
     },
     "output_type": "display_data"
    }
   ],
   "source": [
    "y = buzzfeed_fakenews_df.category.value_counts()[:20]\n",
    "x = y.index\n",
    "size = buzzfeed_fakenews_df.category.value_counts().shape[0]\n",
    "print(y.shape[0], 'out of', size)\n",
    "plt.barh(width=y, y=x);"
   ]
  },
  {
   "cell_type": "markdown",
   "metadata": {},
   "source": [
    "- There are over 165 different topics. Some topics appears to be the names of famous people. \n",
    "\n",
    "**Actions to be taken**\n",
    "- Topics will be concatonated with the articles. Topics aren't general enough  but they may be able to explain how relaible articles are classified."
   ]
  },
  {
   "cell_type": "markdown",
   "metadata": {},
   "source": [
    "### <span style =\"color:blue\"> All Actions to be Taken </span>\n",
    "\n",
    "<span style =\"color:blue\">\n",
    "    \n",
    "- Remove the source column\n",
    "- I'll be scraping the urls and adding it's content to a new column to be merge with the kaggle dataset\n",
    "- Nan sources will be replaced with unknowns t perserve urls\n",
    "Topics will be concatonated with the articles. Topics aren't general enough but they may be able to explain how relaible articles are classified.\n",
    "\n",
    "</span>"
   ]
  }
 ],
 "metadata": {
  "kernelspec": {
   "display_name": "Python 3",
   "language": "python",
   "name": "python3"
  },
  "language_info": {
   "codemirror_mode": {
    "name": "ipython",
    "version": 3
   },
   "file_extension": ".py",
   "mimetype": "text/x-python",
   "name": "python",
   "nbconvert_exporter": "python",
   "pygments_lexer": "ipython3",
   "version": "3.7.3"
  }
 },
 "nbformat": 4,
 "nbformat_minor": 2
}
